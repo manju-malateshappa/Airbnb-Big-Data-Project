{
 "cells": [
  {
   "cell_type": "markdown",
   "metadata": {},
   "source": [
    "# Finding potential Superhosts based on various features!"
   ]
  },
  {
   "cell_type": "code",
   "execution_count": 1,
   "metadata": {},
   "outputs": [],
   "source": [
    "import pandas as pd\n",
    "import missingno as msno\n",
    "import matplotlib.pyplot as plt\n",
    "import seaborn as sns\n",
    "import numpy as np\n",
    "import plotly\n",
    "import cufflinks \n",
    "%matplotlib inline"
   ]
  },
  {
   "cell_type": "markdown",
   "metadata": {},
   "source": [
    "# Reading Data and doing little bit of data exploration!"
   ]
  },
  {
   "cell_type": "code",
   "execution_count": 2,
   "metadata": {},
   "outputs": [],
   "source": [
    "df= pd.read_csv('RecommendListings.csv')"
   ]
  },
  {
   "cell_type": "code",
   "execution_count": 3,
   "metadata": {},
   "outputs": [
    {
     "data": {
      "text/html": [
       "<div>\n",
       "<style scoped>\n",
       "    .dataframe tbody tr th:only-of-type {\n",
       "        vertical-align: middle;\n",
       "    }\n",
       "\n",
       "    .dataframe tbody tr th {\n",
       "        vertical-align: top;\n",
       "    }\n",
       "\n",
       "    .dataframe thead th {\n",
       "        text-align: right;\n",
       "    }\n",
       "</style>\n",
       "<table border=\"1\" class=\"dataframe\">\n",
       "  <thead>\n",
       "    <tr style=\"text-align: right;\">\n",
       "      <th></th>\n",
       "      <th>id</th>\n",
       "      <th>name</th>\n",
       "      <th>host_id</th>\n",
       "      <th>host_response_rate</th>\n",
       "      <th>host_is_superhost</th>\n",
       "      <th>host_total_listings_count</th>\n",
       "      <th>host_verifications</th>\n",
       "      <th>city</th>\n",
       "      <th>latitude</th>\n",
       "      <th>longitude</th>\n",
       "      <th>...</th>\n",
       "      <th>minimum_nights</th>\n",
       "      <th>maximum_nights</th>\n",
       "      <th>number_of_reviews</th>\n",
       "      <th>requires_license</th>\n",
       "      <th>instant_bookable</th>\n",
       "      <th>cancellation_policy</th>\n",
       "      <th>guest_score</th>\n",
       "      <th>final_rev_score</th>\n",
       "      <th>booked</th>\n",
       "      <th>price</th>\n",
       "    </tr>\n",
       "  </thead>\n",
       "  <tbody>\n",
       "    <tr>\n",
       "      <th>0</th>\n",
       "      <td>2078</td>\n",
       "      <td>Central comfy close to Metro Laurie</td>\n",
       "      <td>2277</td>\n",
       "      <td>0.0</td>\n",
       "      <td>0</td>\n",
       "      <td>1</td>\n",
       "      <td>6</td>\n",
       "      <td>Montreal</td>\n",
       "      <td>45.53069</td>\n",
       "      <td>-73.58588</td>\n",
       "      <td>...</td>\n",
       "      <td>2</td>\n",
       "      <td>7</td>\n",
       "      <td>245</td>\n",
       "      <td>0</td>\n",
       "      <td>1</td>\n",
       "      <td>2</td>\n",
       "      <td>0</td>\n",
       "      <td>9.55</td>\n",
       "      <td>0.279452</td>\n",
       "      <td>38</td>\n",
       "    </tr>\n",
       "    <tr>\n",
       "      <th>1</th>\n",
       "      <td>2843</td>\n",
       "      <td>Fabulous downtown/airport room</td>\n",
       "      <td>2319</td>\n",
       "      <td>1.0</td>\n",
       "      <td>0</td>\n",
       "      <td>5</td>\n",
       "      <td>7</td>\n",
       "      <td>Montreal</td>\n",
       "      <td>45.48442</td>\n",
       "      <td>-73.57923</td>\n",
       "      <td>...</td>\n",
       "      <td>1</td>\n",
       "      <td>365</td>\n",
       "      <td>139</td>\n",
       "      <td>0</td>\n",
       "      <td>1</td>\n",
       "      <td>1</td>\n",
       "      <td>0</td>\n",
       "      <td>9.20</td>\n",
       "      <td>0.224658</td>\n",
       "      <td>31</td>\n",
       "    </tr>\n",
       "    <tr>\n",
       "      <th>2</th>\n",
       "      <td>14584</td>\n",
       "      <td>Spread Out in 1,200 Square Feet of Luxury in t...</td>\n",
       "      <td>57358</td>\n",
       "      <td>1.0</td>\n",
       "      <td>1</td>\n",
       "      <td>1</td>\n",
       "      <td>8</td>\n",
       "      <td>Montreal</td>\n",
       "      <td>45.54135</td>\n",
       "      <td>-73.57814</td>\n",
       "      <td>...</td>\n",
       "      <td>3</td>\n",
       "      <td>1125</td>\n",
       "      <td>166</td>\n",
       "      <td>0</td>\n",
       "      <td>0</td>\n",
       "      <td>0</td>\n",
       "      <td>0</td>\n",
       "      <td>9.90</td>\n",
       "      <td>0.060274</td>\n",
       "      <td>175</td>\n",
       "    </tr>\n",
       "    <tr>\n",
       "      <th>3</th>\n",
       "      <td>29059</td>\n",
       "      <td>Lovely studio Quartier Latin</td>\n",
       "      <td>125031</td>\n",
       "      <td>1.0</td>\n",
       "      <td>0</td>\n",
       "      <td>3</td>\n",
       "      <td>8</td>\n",
       "      <td>Montreal</td>\n",
       "      <td>45.51888</td>\n",
       "      <td>-73.56546</td>\n",
       "      <td>...</td>\n",
       "      <td>3</td>\n",
       "      <td>60</td>\n",
       "      <td>307</td>\n",
       "      <td>0</td>\n",
       "      <td>0</td>\n",
       "      <td>1</td>\n",
       "      <td>0</td>\n",
       "      <td>9.60</td>\n",
       "      <td>0.134247</td>\n",
       "      <td>94</td>\n",
       "    </tr>\n",
       "    <tr>\n",
       "      <th>4</th>\n",
       "      <td>29061</td>\n",
       "      <td>Maison historique - Quartier Latin</td>\n",
       "      <td>125031</td>\n",
       "      <td>1.0</td>\n",
       "      <td>0</td>\n",
       "      <td>3</td>\n",
       "      <td>8</td>\n",
       "      <td>Montreal</td>\n",
       "      <td>45.52020</td>\n",
       "      <td>-73.56422</td>\n",
       "      <td>...</td>\n",
       "      <td>3</td>\n",
       "      <td>21</td>\n",
       "      <td>56</td>\n",
       "      <td>0</td>\n",
       "      <td>1</td>\n",
       "      <td>1</td>\n",
       "      <td>0</td>\n",
       "      <td>9.40</td>\n",
       "      <td>0.060274</td>\n",
       "      <td>145</td>\n",
       "    </tr>\n",
       "  </tbody>\n",
       "</table>\n",
       "<p>5 rows × 31 columns</p>\n",
       "</div>"
      ],
      "text/plain": [
       "      id                                               name  host_id  \\\n",
       "0   2078                Central comfy close to Metro Laurie     2277   \n",
       "1   2843                     Fabulous downtown/airport room     2319   \n",
       "2  14584  Spread Out in 1,200 Square Feet of Luxury in t...    57358   \n",
       "3  29059                       Lovely studio Quartier Latin   125031   \n",
       "4  29061                 Maison historique - Quartier Latin   125031   \n",
       "\n",
       "   host_response_rate  host_is_superhost  host_total_listings_count  \\\n",
       "0                 0.0                  0                          1   \n",
       "1                 1.0                  0                          5   \n",
       "2                 1.0                  1                          1   \n",
       "3                 1.0                  0                          3   \n",
       "4                 1.0                  0                          3   \n",
       "\n",
       "   host_verifications      city  latitude  longitude  ...  minimum_nights  \\\n",
       "0                   6  Montreal  45.53069  -73.58588  ...               2   \n",
       "1                   7  Montreal  45.48442  -73.57923  ...               1   \n",
       "2                   8  Montreal  45.54135  -73.57814  ...               3   \n",
       "3                   8  Montreal  45.51888  -73.56546  ...               3   \n",
       "4                   8  Montreal  45.52020  -73.56422  ...               3   \n",
       "\n",
       "  maximum_nights  number_of_reviews  requires_license  instant_bookable  \\\n",
       "0              7                245                 0                 1   \n",
       "1            365                139                 0                 1   \n",
       "2           1125                166                 0                 0   \n",
       "3             60                307                 0                 0   \n",
       "4             21                 56                 0                 1   \n",
       "\n",
       "   cancellation_policy  guest_score  final_rev_score    booked  price  \n",
       "0                    2            0             9.55  0.279452     38  \n",
       "1                    1            0             9.20  0.224658     31  \n",
       "2                    0            0             9.90  0.060274    175  \n",
       "3                    1            0             9.60  0.134247     94  \n",
       "4                    1            0             9.40  0.060274    145  \n",
       "\n",
       "[5 rows x 31 columns]"
      ]
     },
     "execution_count": 3,
     "metadata": {},
     "output_type": "execute_result"
    }
   ],
   "source": [
    "df.head()"
   ]
  },
  {
   "cell_type": "code",
   "execution_count": 4,
   "metadata": {},
   "outputs": [
    {
     "data": {
      "text/plain": [
       "(47646, 31)"
      ]
     },
     "execution_count": 4,
     "metadata": {},
     "output_type": "execute_result"
    }
   ],
   "source": [
    "df.shape"
   ]
  },
  {
   "cell_type": "markdown",
   "metadata": {},
   "source": [
    "# Importing Dataframe which contains sentiment score of the listings calculated by all the reviews recieved so far!"
   ]
  },
  {
   "cell_type": "code",
   "execution_count": 5,
   "metadata": {},
   "outputs": [],
   "source": [
    "df1=pd.read_csv('SentimentScore.csv')"
   ]
  },
  {
   "cell_type": "code",
   "execution_count": 6,
   "metadata": {},
   "outputs": [],
   "source": [
    "df1.rename(columns={'listing_id':'id'}, inplace=True)"
   ]
  },
  {
   "cell_type": "code",
   "execution_count": 7,
   "metadata": {},
   "outputs": [],
   "source": [
    "df=df.set_index('id').join(df1.set_index('id'))"
   ]
  },
  {
   "cell_type": "code",
   "execution_count": 8,
   "metadata": {},
   "outputs": [],
   "source": [
    "df=df.dropna(how='any')"
   ]
  },
  {
   "cell_type": "code",
   "execution_count": 9,
   "metadata": {},
   "outputs": [
    {
     "data": {
      "text/plain": [
       "(39729, 31)"
      ]
     },
     "execution_count": 9,
     "metadata": {},
     "output_type": "execute_result"
    }
   ],
   "source": [
    "df.shape"
   ]
  },
  {
   "cell_type": "code",
   "execution_count": 10,
   "metadata": {},
   "outputs": [
    {
     "data": {
      "text/html": [
       "<div>\n",
       "<style scoped>\n",
       "    .dataframe tbody tr th:only-of-type {\n",
       "        vertical-align: middle;\n",
       "    }\n",
       "\n",
       "    .dataframe tbody tr th {\n",
       "        vertical-align: top;\n",
       "    }\n",
       "\n",
       "    .dataframe thead th {\n",
       "        text-align: right;\n",
       "    }\n",
       "</style>\n",
       "<table border=\"1\" class=\"dataframe\">\n",
       "  <thead>\n",
       "    <tr style=\"text-align: right;\">\n",
       "      <th></th>\n",
       "      <th>id</th>\n",
       "      <th>name</th>\n",
       "      <th>host_id</th>\n",
       "      <th>host_response_rate</th>\n",
       "      <th>host_is_superhost</th>\n",
       "      <th>host_total_listings_count</th>\n",
       "      <th>host_verifications</th>\n",
       "      <th>city</th>\n",
       "      <th>latitude</th>\n",
       "      <th>longitude</th>\n",
       "      <th>...</th>\n",
       "      <th>maximum_nights</th>\n",
       "      <th>number_of_reviews</th>\n",
       "      <th>requires_license</th>\n",
       "      <th>instant_bookable</th>\n",
       "      <th>cancellation_policy</th>\n",
       "      <th>guest_score</th>\n",
       "      <th>final_rev_score</th>\n",
       "      <th>booked</th>\n",
       "      <th>price</th>\n",
       "      <th>sentiment_score</th>\n",
       "    </tr>\n",
       "  </thead>\n",
       "  <tbody>\n",
       "    <tr>\n",
       "      <th>0</th>\n",
       "      <td>2078</td>\n",
       "      <td>Central comfy close to Metro Laurie</td>\n",
       "      <td>2277</td>\n",
       "      <td>0.00</td>\n",
       "      <td>0</td>\n",
       "      <td>1</td>\n",
       "      <td>6</td>\n",
       "      <td>Montreal</td>\n",
       "      <td>45.53069</td>\n",
       "      <td>-73.58588</td>\n",
       "      <td>...</td>\n",
       "      <td>7</td>\n",
       "      <td>245</td>\n",
       "      <td>0</td>\n",
       "      <td>1</td>\n",
       "      <td>2</td>\n",
       "      <td>0</td>\n",
       "      <td>9.55</td>\n",
       "      <td>0.279452</td>\n",
       "      <td>38</td>\n",
       "      <td>0.399377</td>\n",
       "    </tr>\n",
       "    <tr>\n",
       "      <th>1</th>\n",
       "      <td>2843</td>\n",
       "      <td>Fabulous downtown/airport room</td>\n",
       "      <td>2319</td>\n",
       "      <td>1.00</td>\n",
       "      <td>0</td>\n",
       "      <td>5</td>\n",
       "      <td>7</td>\n",
       "      <td>Montreal</td>\n",
       "      <td>45.48442</td>\n",
       "      <td>-73.57923</td>\n",
       "      <td>...</td>\n",
       "      <td>365</td>\n",
       "      <td>139</td>\n",
       "      <td>0</td>\n",
       "      <td>1</td>\n",
       "      <td>1</td>\n",
       "      <td>0</td>\n",
       "      <td>9.20</td>\n",
       "      <td>0.224658</td>\n",
       "      <td>31</td>\n",
       "      <td>0.349046</td>\n",
       "    </tr>\n",
       "    <tr>\n",
       "      <th>2</th>\n",
       "      <td>14584</td>\n",
       "      <td>Spread Out in 1,200 Square Feet of Luxury in t...</td>\n",
       "      <td>57358</td>\n",
       "      <td>1.00</td>\n",
       "      <td>1</td>\n",
       "      <td>1</td>\n",
       "      <td>8</td>\n",
       "      <td>Montreal</td>\n",
       "      <td>45.54135</td>\n",
       "      <td>-73.57814</td>\n",
       "      <td>...</td>\n",
       "      <td>1125</td>\n",
       "      <td>166</td>\n",
       "      <td>0</td>\n",
       "      <td>0</td>\n",
       "      <td>0</td>\n",
       "      <td>0</td>\n",
       "      <td>9.90</td>\n",
       "      <td>0.060274</td>\n",
       "      <td>175</td>\n",
       "      <td>0.424510</td>\n",
       "    </tr>\n",
       "    <tr>\n",
       "      <th>3</th>\n",
       "      <td>29059</td>\n",
       "      <td>Lovely studio Quartier Latin</td>\n",
       "      <td>125031</td>\n",
       "      <td>1.00</td>\n",
       "      <td>0</td>\n",
       "      <td>3</td>\n",
       "      <td>8</td>\n",
       "      <td>Montreal</td>\n",
       "      <td>45.51888</td>\n",
       "      <td>-73.56546</td>\n",
       "      <td>...</td>\n",
       "      <td>60</td>\n",
       "      <td>307</td>\n",
       "      <td>0</td>\n",
       "      <td>0</td>\n",
       "      <td>1</td>\n",
       "      <td>0</td>\n",
       "      <td>9.60</td>\n",
       "      <td>0.134247</td>\n",
       "      <td>94</td>\n",
       "      <td>0.347272</td>\n",
       "    </tr>\n",
       "    <tr>\n",
       "      <th>4</th>\n",
       "      <td>29061</td>\n",
       "      <td>Maison historique - Quartier Latin</td>\n",
       "      <td>125031</td>\n",
       "      <td>1.00</td>\n",
       "      <td>0</td>\n",
       "      <td>3</td>\n",
       "      <td>8</td>\n",
       "      <td>Montreal</td>\n",
       "      <td>45.52020</td>\n",
       "      <td>-73.56422</td>\n",
       "      <td>...</td>\n",
       "      <td>21</td>\n",
       "      <td>56</td>\n",
       "      <td>0</td>\n",
       "      <td>1</td>\n",
       "      <td>1</td>\n",
       "      <td>0</td>\n",
       "      <td>9.40</td>\n",
       "      <td>0.060274</td>\n",
       "      <td>145</td>\n",
       "      <td>0.372003</td>\n",
       "    </tr>\n",
       "    <tr>\n",
       "      <th>...</th>\n",
       "      <td>...</td>\n",
       "      <td>...</td>\n",
       "      <td>...</td>\n",
       "      <td>...</td>\n",
       "      <td>...</td>\n",
       "      <td>...</td>\n",
       "      <td>...</td>\n",
       "      <td>...</td>\n",
       "      <td>...</td>\n",
       "      <td>...</td>\n",
       "      <td>...</td>\n",
       "      <td>...</td>\n",
       "      <td>...</td>\n",
       "      <td>...</td>\n",
       "      <td>...</td>\n",
       "      <td>...</td>\n",
       "      <td>...</td>\n",
       "      <td>...</td>\n",
       "      <td>...</td>\n",
       "      <td>...</td>\n",
       "      <td>...</td>\n",
       "    </tr>\n",
       "    <tr>\n",
       "      <th>39724</th>\n",
       "      <td>38461625</td>\n",
       "      <td>Cozy Suite off Broadway</td>\n",
       "      <td>293239954</td>\n",
       "      <td>0.00</td>\n",
       "      <td>0</td>\n",
       "      <td>0</td>\n",
       "      <td>1</td>\n",
       "      <td>Vancouver</td>\n",
       "      <td>49.26342</td>\n",
       "      <td>-123.04962</td>\n",
       "      <td>...</td>\n",
       "      <td>40</td>\n",
       "      <td>3</td>\n",
       "      <td>1</td>\n",
       "      <td>1</td>\n",
       "      <td>2</td>\n",
       "      <td>0</td>\n",
       "      <td>8.80</td>\n",
       "      <td>0.550685</td>\n",
       "      <td>101</td>\n",
       "      <td>0.373199</td>\n",
       "    </tr>\n",
       "    <tr>\n",
       "      <th>39725</th>\n",
       "      <td>38465573</td>\n",
       "      <td>cute room in a big house, 20 min to Downtown/YVR</td>\n",
       "      <td>276943447</td>\n",
       "      <td>1.00</td>\n",
       "      <td>0</td>\n",
       "      <td>3</td>\n",
       "      <td>3</td>\n",
       "      <td>Vancouver</td>\n",
       "      <td>49.25015</td>\n",
       "      <td>-123.11102</td>\n",
       "      <td>...</td>\n",
       "      <td>1125</td>\n",
       "      <td>2</td>\n",
       "      <td>1</td>\n",
       "      <td>0</td>\n",
       "      <td>2</td>\n",
       "      <td>0</td>\n",
       "      <td>10.00</td>\n",
       "      <td>0.994521</td>\n",
       "      <td>26</td>\n",
       "      <td>0.760000</td>\n",
       "    </tr>\n",
       "    <tr>\n",
       "      <th>39726</th>\n",
       "      <td>38468034</td>\n",
       "      <td>Trendy Loft In The Heart Of Downtown!</td>\n",
       "      <td>293296720</td>\n",
       "      <td>0.00</td>\n",
       "      <td>0</td>\n",
       "      <td>1</td>\n",
       "      <td>6</td>\n",
       "      <td>Vancouver</td>\n",
       "      <td>49.28091</td>\n",
       "      <td>-123.10872</td>\n",
       "      <td>...</td>\n",
       "      <td>1125</td>\n",
       "      <td>1</td>\n",
       "      <td>1</td>\n",
       "      <td>1</td>\n",
       "      <td>0</td>\n",
       "      <td>0</td>\n",
       "      <td>5.72</td>\n",
       "      <td>0.024658</td>\n",
       "      <td>249</td>\n",
       "      <td>0.316667</td>\n",
       "    </tr>\n",
       "    <tr>\n",
       "      <th>39727</th>\n",
       "      <td>38519854</td>\n",
       "      <td>Bingbing's Awesome Home - Room 2</td>\n",
       "      <td>291070608</td>\n",
       "      <td>1.00</td>\n",
       "      <td>0</td>\n",
       "      <td>1</td>\n",
       "      <td>6</td>\n",
       "      <td>Vancouver</td>\n",
       "      <td>49.21404</td>\n",
       "      <td>-123.10400</td>\n",
       "      <td>...</td>\n",
       "      <td>30</td>\n",
       "      <td>1</td>\n",
       "      <td>1</td>\n",
       "      <td>1</td>\n",
       "      <td>2</td>\n",
       "      <td>0</td>\n",
       "      <td>10.00</td>\n",
       "      <td>0.010959</td>\n",
       "      <td>101</td>\n",
       "      <td>0.568333</td>\n",
       "    </tr>\n",
       "    <tr>\n",
       "      <th>39728</th>\n",
       "      <td>38573149</td>\n",
       "      <td>Mini castle 9</td>\n",
       "      <td>277410970</td>\n",
       "      <td>0.98</td>\n",
       "      <td>0</td>\n",
       "      <td>6</td>\n",
       "      <td>1</td>\n",
       "      <td>Vancouver</td>\n",
       "      <td>49.22022</td>\n",
       "      <td>-123.13895</td>\n",
       "      <td>...</td>\n",
       "      <td>1125</td>\n",
       "      <td>1</td>\n",
       "      <td>1</td>\n",
       "      <td>1</td>\n",
       "      <td>0</td>\n",
       "      <td>0</td>\n",
       "      <td>9.80</td>\n",
       "      <td>0.035616</td>\n",
       "      <td>40</td>\n",
       "      <td>0.800000</td>\n",
       "    </tr>\n",
       "  </tbody>\n",
       "</table>\n",
       "<p>39729 rows × 32 columns</p>\n",
       "</div>"
      ],
      "text/plain": [
       "             id                                               name    host_id  \\\n",
       "0          2078                Central comfy close to Metro Laurie       2277   \n",
       "1          2843                     Fabulous downtown/airport room       2319   \n",
       "2         14584  Spread Out in 1,200 Square Feet of Luxury in t...      57358   \n",
       "3         29059                       Lovely studio Quartier Latin     125031   \n",
       "4         29061                 Maison historique - Quartier Latin     125031   \n",
       "...         ...                                                ...        ...   \n",
       "39724  38461625                            Cozy Suite off Broadway  293239954   \n",
       "39725  38465573   cute room in a big house, 20 min to Downtown/YVR  276943447   \n",
       "39726  38468034              Trendy Loft In The Heart Of Downtown!  293296720   \n",
       "39727  38519854                   Bingbing's Awesome Home - Room 2  291070608   \n",
       "39728  38573149                                      Mini castle 9  277410970   \n",
       "\n",
       "       host_response_rate  host_is_superhost  host_total_listings_count  \\\n",
       "0                    0.00                  0                          1   \n",
       "1                    1.00                  0                          5   \n",
       "2                    1.00                  1                          1   \n",
       "3                    1.00                  0                          3   \n",
       "4                    1.00                  0                          3   \n",
       "...                   ...                ...                        ...   \n",
       "39724                0.00                  0                          0   \n",
       "39725                1.00                  0                          3   \n",
       "39726                0.00                  0                          1   \n",
       "39727                1.00                  0                          1   \n",
       "39728                0.98                  0                          6   \n",
       "\n",
       "       host_verifications       city  latitude  longitude  ...  \\\n",
       "0                       6   Montreal  45.53069  -73.58588  ...   \n",
       "1                       7   Montreal  45.48442  -73.57923  ...   \n",
       "2                       8   Montreal  45.54135  -73.57814  ...   \n",
       "3                       8   Montreal  45.51888  -73.56546  ...   \n",
       "4                       8   Montreal  45.52020  -73.56422  ...   \n",
       "...                   ...        ...       ...        ...  ...   \n",
       "39724                   1  Vancouver  49.26342 -123.04962  ...   \n",
       "39725                   3  Vancouver  49.25015 -123.11102  ...   \n",
       "39726                   6  Vancouver  49.28091 -123.10872  ...   \n",
       "39727                   6  Vancouver  49.21404 -123.10400  ...   \n",
       "39728                   1  Vancouver  49.22022 -123.13895  ...   \n",
       "\n",
       "       maximum_nights number_of_reviews  requires_license  instant_bookable  \\\n",
       "0                   7               245                 0                 1   \n",
       "1                 365               139                 0                 1   \n",
       "2                1125               166                 0                 0   \n",
       "3                  60               307                 0                 0   \n",
       "4                  21                56                 0                 1   \n",
       "...               ...               ...               ...               ...   \n",
       "39724              40                 3                 1                 1   \n",
       "39725            1125                 2                 1                 0   \n",
       "39726            1125                 1                 1                 1   \n",
       "39727              30                 1                 1                 1   \n",
       "39728            1125                 1                 1                 1   \n",
       "\n",
       "       cancellation_policy  guest_score  final_rev_score    booked  price  \\\n",
       "0                        2            0             9.55  0.279452     38   \n",
       "1                        1            0             9.20  0.224658     31   \n",
       "2                        0            0             9.90  0.060274    175   \n",
       "3                        1            0             9.60  0.134247     94   \n",
       "4                        1            0             9.40  0.060274    145   \n",
       "...                    ...          ...              ...       ...    ...   \n",
       "39724                    2            0             8.80  0.550685    101   \n",
       "39725                    2            0            10.00  0.994521     26   \n",
       "39726                    0            0             5.72  0.024658    249   \n",
       "39727                    2            0            10.00  0.010959    101   \n",
       "39728                    0            0             9.80  0.035616     40   \n",
       "\n",
       "       sentiment_score  \n",
       "0             0.399377  \n",
       "1             0.349046  \n",
       "2             0.424510  \n",
       "3             0.347272  \n",
       "4             0.372003  \n",
       "...                ...  \n",
       "39724         0.373199  \n",
       "39725         0.760000  \n",
       "39726         0.316667  \n",
       "39727         0.568333  \n",
       "39728         0.800000  \n",
       "\n",
       "[39729 rows x 32 columns]"
      ]
     },
     "execution_count": 10,
     "metadata": {},
     "output_type": "execute_result"
    }
   ],
   "source": [
    "df.reset_index()"
   ]
  },
  {
   "cell_type": "code",
   "execution_count": null,
   "metadata": {},
   "outputs": [],
   "source": []
  },
  {
   "cell_type": "code",
   "execution_count": 14,
   "metadata": {},
   "outputs": [],
   "source": [
    "#Removing useless columns, here host_id\n",
    "df=df.drop(columns=['host_id','name'],axis=1)"
   ]
  },
  {
   "cell_type": "code",
   "execution_count": 15,
   "metadata": {},
   "outputs": [
    {
     "data": {
      "text/plain": [
       "<matplotlib.axes._subplots.AxesSubplot at 0x7fb9a9c65518>"
      ]
     },
     "execution_count": 15,
     "metadata": {},
     "output_type": "execute_result"
    },
    {
     "data": {
      "image/png": "[encoded data removed]",
      "text/plain": [
       "<Figure size 1800x720 with 2 Axes>"
      ]
     },
     "metadata": {
      "needs_background": "light"
     },
     "output_type": "display_data"
    }
   ],
   "source": [
    "#checking if there is any missing value in the data!!\n",
    "msno.matrix(df)"
   ]
  },
  {
   "cell_type": "markdown",
   "metadata": {},
   "source": [
    "# categorical data to dummy variable or encoding!"
   ]
  },
  {
   "cell_type": "code",
   "execution_count": 16,
   "metadata": {},
   "outputs": [],
   "source": [
    "df=pd.get_dummies(df, columns=['city'])"
   ]
  },
  {
   "cell_type": "code",
   "execution_count": 17,
   "metadata": {},
   "outputs": [],
   "source": [
    "df=pd.get_dummies(df, columns=['room_type'])"
   ]
  },
  {
   "cell_type": "markdown",
   "metadata": {},
   "source": [
    "# To avoid dummy variable trap, we need to drop one column each from dummy variables!"
   ]
  },
  {
   "cell_type": "code",
   "execution_count": 18,
   "metadata": {},
   "outputs": [
    {
     "name": "stdout",
     "output_type": "stream",
     "text": [
      "<class 'pandas.core.frame.DataFrame'>\n",
      "Int64Index: 39729 entries, 2078 to 38573149\n",
      "Data columns (total 34 columns):\n",
      "host_response_rate           39729 non-null float64\n",
      "host_is_superhost            39729 non-null int64\n",
      "host_total_listings_count    39729 non-null int64\n",
      "host_verifications           39729 non-null int64\n",
      "latitude                     39729 non-null float64\n",
      "longitude                    39729 non-null float64\n",
      "is_location_exact            39729 non-null int64\n",
      "accommodates                 39729 non-null int64\n",
      "bathrooms                    39729 non-null float64\n",
      "bedrooms                     39729 non-null int64\n",
      "beds                         39729 non-null int64\n",
      "amenities                    39729 non-null int64\n",
      "security_deposit             39729 non-null int64\n",
      "cleaning_fee                 39729 non-null int64\n",
      "guests_included              39729 non-null int64\n",
      "extra_people                 39729 non-null int64\n",
      "minimum_nights               39729 non-null int64\n",
      "maximum_nights               39729 non-null int64\n",
      "number_of_reviews            39729 non-null int64\n",
      "requires_license             39729 non-null int64\n",
      "instant_bookable             39729 non-null int64\n",
      "cancellation_policy          39729 non-null int64\n",
      "guest_score                  39729 non-null int64\n",
      "final_rev_score              39729 non-null float64\n",
      "booked                       39729 non-null float64\n",
      "price                        39729 non-null int64\n",
      "sentiment_score              39729 non-null float64\n",
      "city_Montreal                39729 non-null uint8\n",
      "city_Torronto                39729 non-null uint8\n",
      "city_Vancouver               39729 non-null uint8\n",
      "room_type_Entire home/apt    39729 non-null uint8\n",
      "room_type_Hotel room         39729 non-null uint8\n",
      "room_type_Private room       39729 non-null uint8\n",
      "room_type_Shared room        39729 non-null uint8\n",
      "dtypes: float64(7), int64(20), uint8(7)\n",
      "memory usage: 8.8 MB\n"
     ]
    }
   ],
   "source": [
    "df.info()"
   ]
  },
  {
   "cell_type": "code",
   "execution_count": 19,
   "metadata": {},
   "outputs": [],
   "source": [
    "df=df.drop(columns=['room_type_Shared room','city_Vancouver'],axis=1)"
   ]
  },
  {
   "cell_type": "markdown",
   "metadata": {},
   "source": [
    "# I want the column 'host_is_superhost' in the end for easily extracting it after Normalization!"
   ]
  },
  {
   "cell_type": "code",
   "execution_count": 20,
   "metadata": {},
   "outputs": [],
   "source": [
    "cols = list(df.columns.values) \n",
    "cols.pop(cols.index('host_is_superhost'))\n",
    "df = df[cols+['host_is_superhost']]"
   ]
  },
  {
   "cell_type": "code",
   "execution_count": 21,
   "metadata": {},
   "outputs": [
    {
     "data": {
      "text/plain": [
       "(39729, 32)"
      ]
     },
     "execution_count": 21,
     "metadata": {},
     "output_type": "execute_result"
    }
   ],
   "source": [
    "df.shape"
   ]
  },
  {
   "cell_type": "markdown",
   "metadata": {},
   "source": [
    "# Pre-processing of the data!"
   ]
  },
  {
   "cell_type": "code",
   "execution_count": 22,
   "metadata": {},
   "outputs": [],
   "source": [
    "data=df.values"
   ]
  },
  {
   "cell_type": "code",
   "execution_count": 23,
   "metadata": {},
   "outputs": [],
   "source": [
    "from sklearn.preprocessing import MinMaxScaler"
   ]
  },
  {
   "cell_type": "code",
   "execution_count": 24,
   "metadata": {},
   "outputs": [],
   "source": [
    "scaler = MinMaxScaler()"
   ]
  },
  {
   "cell_type": "code",
   "execution_count": 25,
   "metadata": {},
   "outputs": [
    {
     "data": {
      "text/plain": [
       "MinMaxScaler(copy=True, feature_range=(0, 1))"
      ]
     },
     "execution_count": 25,
     "metadata": {},
     "output_type": "execute_result"
    }
   ],
   "source": [
    "scaler.fit(data)"
   ]
  },
  {
   "cell_type": "markdown",
   "metadata": {},
   "source": [
    "# Splitting data into X and y"
   ]
  },
  {
   "cell_type": "code",
   "execution_count": 26,
   "metadata": {},
   "outputs": [],
   "source": [
    "y=data[:,-1]"
   ]
  },
  {
   "cell_type": "code",
   "execution_count": 27,
   "metadata": {},
   "outputs": [],
   "source": [
    "X=data[:,:-1]"
   ]
  },
  {
   "cell_type": "code",
   "execution_count": 28,
   "metadata": {},
   "outputs": [
    {
     "data": {
      "text/plain": [
       "(39729, 31)"
      ]
     },
     "execution_count": 28,
     "metadata": {},
     "output_type": "execute_result"
    }
   ],
   "source": [
    "X.shape"
   ]
  },
  {
   "cell_type": "code",
   "execution_count": 29,
   "metadata": {},
   "outputs": [
    {
     "data": {
      "text/plain": [
       "(39729,)"
      ]
     },
     "execution_count": 29,
     "metadata": {},
     "output_type": "execute_result"
    }
   ],
   "source": [
    "y.shape"
   ]
  },
  {
   "cell_type": "code",
   "execution_count": 30,
   "metadata": {},
   "outputs": [
    {
     "data": {
      "text/plain": [
       "numpy.ndarray"
      ]
     },
     "execution_count": 30,
     "metadata": {},
     "output_type": "execute_result"
    }
   ],
   "source": [
    "type(X)"
   ]
  },
  {
   "cell_type": "code",
   "execution_count": 31,
   "metadata": {},
   "outputs": [
    {
     "data": {
      "text/plain": [
       "numpy.ndarray"
      ]
     },
     "execution_count": 31,
     "metadata": {},
     "output_type": "execute_result"
    }
   ],
   "source": [
    "type(y)"
   ]
  },
  {
   "cell_type": "markdown",
   "metadata": {},
   "source": [
    "# Splitting data into Train, Validation and Testing set!!  [0.64 , 0.16 , 0.2]"
   ]
  },
  {
   "cell_type": "code",
   "execution_count": 32,
   "metadata": {},
   "outputs": [],
   "source": [
    "from sklearn.model_selection import train_test_split\n",
    "X_train, X_test, y_train, y_test = train_test_split(X, y, test_size=0.2, random_state=1)\n",
    "X_train, X_val, y_train, y_val = train_test_split(X_train, y_train, test_size=0.2, random_state=1)"
   ]
  },
  {
   "cell_type": "markdown",
   "metadata": {},
   "source": [
    "# KNN Classifier!"
   ]
  },
  {
   "cell_type": "code",
   "execution_count": 33,
   "metadata": {},
   "outputs": [
    {
     "data": {
      "text/plain": [
       "0.7374547742645902"
      ]
     },
     "execution_count": 33,
     "metadata": {},
     "output_type": "execute_result"
    }
   ],
   "source": [
    "from sklearn.neighbors import  KNeighborsClassifier\n",
    "clf= KNeighborsClassifier(n_neighbors=5)\n",
    "clf.fit(X_train, y_train)\n",
    "clf.score(X_val,y_val)"
   ]
  },
  {
   "cell_type": "markdown",
   "metadata": {},
   "source": [
    "# RandomForest Classifier!"
   ]
  },
  {
   "cell_type": "code",
   "execution_count": 34,
   "metadata": {},
   "outputs": [
    {
     "data": {
      "text/plain": [
       "0.8406481044517854"
      ]
     },
     "execution_count": 34,
     "metadata": {},
     "output_type": "execute_result"
    }
   ],
   "source": [
    "from sklearn.ensemble import RandomForestClassifier\n",
    "clf = RandomForestClassifier(n_estimators=10, max_depth=None,min_samples_split=2, random_state=0)\n",
    "clf.fit(X_train,y_train)\n",
    "clf.score(X_val,y_val)"
   ]
  },
  {
   "cell_type": "markdown",
   "metadata": {},
   "source": [
    "# Adaboost Classifier!"
   ]
  },
  {
   "cell_type": "code",
   "execution_count": 35,
   "metadata": {},
   "outputs": [
    {
     "data": {
      "text/plain": [
       "0.8278379058645859"
      ]
     },
     "execution_count": 35,
     "metadata": {},
     "output_type": "execute_result"
    }
   ],
   "source": [
    "from sklearn.ensemble import AdaBoostClassifier\n",
    "clf = AdaBoostClassifier(n_estimators=10)\n",
    "clf.fit(X_train,y_train)\n",
    "clf.score(X_test,y_test)"
   ]
  },
  {
   "cell_type": "markdown",
   "metadata": {},
   "source": [
    "# Support Vector Machine Classifier!"
   ]
  },
  {
   "cell_type": "code",
   "execution_count": 36,
   "metadata": {},
   "outputs": [
    {
     "data": {
      "text/plain": [
       "0.7118046816008055"
      ]
     },
     "execution_count": 36,
     "metadata": {},
     "output_type": "execute_result"
    }
   ],
   "source": [
    "from sklearn import svm\n",
    "clf = svm.SVC(gamma='scale')\n",
    "clf.fit(X_train, y_train)  \n",
    "clf.score(X_test,y_test)"
   ]
  },
  {
   "cell_type": "markdown",
   "metadata": {},
   "source": [
    "# logistic Regression Classifier!"
   ]
  },
  {
   "cell_type": "code",
   "execution_count": 37,
   "metadata": {},
   "outputs": [
    {
     "data": {
      "text/plain": [
       "0.73147711184521"
      ]
     },
     "execution_count": 37,
     "metadata": {},
     "output_type": "execute_result"
    }
   ],
   "source": [
    "from sklearn.linear_model import LogisticRegression\n",
    "clf = LogisticRegression(random_state=0, solver='lbfgs').fit(X_train, y_train)\n",
    "clf.fit(X_train,y_train)\n",
    "clf.score(X_val,y_val)"
   ]
  },
  {
   "cell_type": "markdown",
   "metadata": {},
   "source": [
    "# Since, RF classifier outperformed everyone. Thus, tuning RF classifier!"
   ]
  },
  {
   "cell_type": "code",
   "execution_count": 38,
   "metadata": {},
   "outputs": [],
   "source": [
    "RFscores={}\n",
    "for i in range(10,250,10):\n",
    "    clf = RandomForestClassifier(n_estimators=i, max_depth=None,min_samples_split=2, random_state=0)\n",
    "    clf.fit(X_train,y_train)\n",
    "    val=clf.score(X_val,y_val)\n",
    "    RFscores[i]=val\n",
    "    \n",
    "    "
   ]
  },
  {
   "cell_type": "code",
   "execution_count": 39,
   "metadata": {},
   "outputs": [],
   "source": [
    "x_axis= [i for i in range(10,250,10)]\n",
    "y_axis=list(RFscores.values())"
   ]
  },
  {
   "cell_type": "code",
   "execution_count": 40,
   "metadata": {},
   "outputs": [
    {
     "data": {
      "text/plain": [
       "[<matplotlib.lines.Line2D at 0x7fb99a907390>]"
      ]
     },
     "execution_count": 40,
     "metadata": {},
     "output_type": "execute_result"
    },
    {
     "data": {
      "image/png": "[encoded data removed]",
      "text/plain": [
       "<Figure size 432x288 with 1 Axes>"
      ]
     },
     "metadata": {
      "needs_background": "light"
     },
     "output_type": "display_data"
    }
   ],
   "source": [
    "plt.plot(x_axis,y_axis)"
   ]
  },
  {
   "cell_type": "code",
   "execution_count": 41,
   "metadata": {},
   "outputs": [],
   "source": [
    "index_max=max(RFscores, key=RFscores.get)"
   ]
  },
  {
   "cell_type": "code",
   "execution_count": 42,
   "metadata": {},
   "outputs": [
    {
     "data": {
      "text/plain": [
       "230"
      ]
     },
     "execution_count": 42,
     "metadata": {},
     "output_type": "execute_result"
    }
   ],
   "source": [
    "index_max"
   ]
  },
  {
   "cell_type": "code",
   "execution_count": 57,
   "metadata": {},
   "outputs": [
    {
     "data": {
      "text/plain": [
       "0.8526034292905459"
      ]
     },
     "execution_count": 57,
     "metadata": {},
     "output_type": "execute_result"
    }
   ],
   "source": [
    "clf = RandomForestClassifier(n_estimators=230, max_depth=None,min_samples_split=2, random_state=0)\n",
    "clf.fit(X_train,y_train)\n",
    "clf.score(X_val,y_val)"
   ]
  },
  {
   "cell_type": "code",
   "execution_count": 58,
   "metadata": {},
   "outputs": [
    {
     "data": {
      "text/plain": [
       "0.8579159325446766"
      ]
     },
     "execution_count": 58,
     "metadata": {},
     "output_type": "execute_result"
    }
   ],
   "source": [
    "clf.score(X_test,y_test)"
   ]
  },
  {
   "cell_type": "markdown",
   "metadata": {},
   "source": [
    "# 85.79% on Testing set! using Random Forest Classifier!"
   ]
  },
  {
   "cell_type": "markdown",
   "metadata": {},
   "source": [
    "# Identifying Important Features Which makes a Host -> Superhost"
   ]
  },
  {
   "cell_type": "code",
   "execution_count": 47,
   "metadata": {},
   "outputs": [
    {
     "name": "stdout",
     "output_type": "stream",
     "text": [
      "host_response_rate = 0.0624533067687104\n",
      "host_total_listings_count = 0.053087722447950125\n",
      "host_verifications = 0.03461564751663985\n",
      "latitude = 0.04889242020914155\n",
      "longitude = 0.04837553330302762\n",
      "is_location_exact = 0.0061064204014316895\n",
      "accommodates = 0.018396556372696226\n",
      "bathrooms = 0.009678242983956609\n",
      "bedrooms = 0.008158638402641232\n",
      "beds = 0.01286098781833549\n",
      "amenities = 0.024736136855762272\n",
      "security_deposit = 0.02803440028915827\n",
      "cleaning_fee = 0.038180583953053425\n",
      "guests_included = 0.01357878817632716\n",
      "extra_people = 0.025084332488243866\n",
      "minimum_nights = 0.026577589672196165\n",
      "maximum_nights = 0.025379308817167743\n",
      "number_of_reviews = 0.15844792814955824\n",
      "requires_license = 0.002921916099653314\n",
      "instant_bookable = 0.008164205690879037\n",
      "cancellation_policy = 0.01347669269843341\n",
      "guest_score = 0.002292114054478228\n",
      "final_rev_score = 0.15709330196267912\n",
      "booked = 0.046539735698392454\n",
      "price = 0.04166536932777489\n",
      "sentiment_score = 0.06655681456626238\n",
      "city_Montreal = 0.004184991690019574\n",
      "city_Torronto = 0.003986577623577156\n",
      "room_type_Entire home/apt = 0.004484789926616177\n",
      "room_type_Hotel room = 0.0012476583491658447\n",
      "room_type_Private room = 0.0047412876860705375\n"
     ]
    }
   ],
   "source": [
    "for name, importance in zip(df.columns[:-1],clf.feature_importances_):\n",
    "    print(name, \"=\", importance)"
   ]
  },
  {
   "cell_type": "code",
   "execution_count": 48,
   "metadata": {},
   "outputs": [
    {
     "data": {
      "image/png": "[encoded data removed]",
      "text/plain": [
       "<Figure size 1440x1440 with 1 Axes>"
      ]
     },
     "metadata": {
      "needs_background": "light"
     },
     "output_type": "display_data"
    }
   ],
   "source": [
    "\n",
    "plt.figure(figsize=(20,20))\n",
    "features = df.columns[:-1]\n",
    "importances = clf.feature_importances_\n",
    "indices = np.argsort(importances)\n",
    "plt.title('Feature Importances')\n",
    "plt.barh(range(len(indices)), importances[indices], color='#E69B29', align='center')\n",
    "plt.yticks(range(len(indices)), [features[i] for i in indices])\n",
    "plt.xlabel('Relative Importance')\n",
    "plt.show()"
   ]
  },
  {
   "cell_type": "markdown",
   "metadata": {},
   "source": [
    "# Thank you!"
   ]
  }
 ],
 "metadata": {
  "kernelspec": {
   "display_name": "Python 3",
   "language": "python",
   "name": "python3"
  },
  "language_info": {
   "codemirror_mode": {
    "name": "ipython",
    "version": 3
   },
   "file_extension": ".py",
   "mimetype": "text/x-python",
   "name": "python",
   "nbconvert_exporter": "python",
   "pygments_lexer": "ipython3",
   "version": "3.6.8"
  }
 },
 "nbformat": 4,
 "nbformat_minor": 2
}
